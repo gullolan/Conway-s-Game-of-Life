{
 "cells": [
  {
   "cell_type": "code",
   "execution_count": 1,
   "metadata": {},
   "outputs": [],
   "source": [
    "import numpy as np\n",
    "import matplotlib.pyplot as plt\n",
    "import matplotlib.animation as animation"
   ]
  },
  {
   "cell_type": "code",
   "execution_count": 2,
   "metadata": {},
   "outputs": [],
   "source": [
    "def mundo(n):\n",
    "  C=np.random.randint(0,2,[n+2,n+2])\n",
    "  C[0,:]=0\n",
    "  C[n+1,:]=0\n",
    "  C[:,0]=0\n",
    "  C[:,n+1]=0\n",
    "  return C"
   ]
  },
  {
   "cell_type": "code",
   "execution_count": 3,
   "metadata": {},
   "outputs": [],
   "source": [
    "def paso(C):\n",
    "  m=C.shape[0]\n",
    "  C2=np.zeros([m,m])\n",
    "  for i in range(1,m-1):\n",
    "    for j in range(1,m-1):\n",
    "       if C[i,j]==0:\n",
    "         v=C[i,j-1]+C[i-1,j-1]+C[i-1,j]+C[i-1,j+1]+C[i,j+1]+C[i+1,j+1]+C[i+1,j]+C[i+1,j-1]\n",
    "         if v==3:\n",
    "           C2[i,j]=1\n",
    "         else:\n",
    "           C2[i,j]=0\n",
    "       else:\n",
    "         v=C[i,j-1]+C[i-1,j-1]+C[i-1,j]+C[i-1,j+1]+C[i,j+1]+C[i+1,j+1]+C[i+1,j]+C[i+1,j-1]\n",
    "         if v==2 or v==3:\n",
    "           C2[i,j]=1\n",
    "         else:\n",
    "           C2[i,j]=0\n",
    "  return C2"
   ]
  },
  {
   "cell_type": "code",
   "execution_count": 4,
   "metadata": {},
   "outputs": [],
   "source": [
    "def game(C,it):\n",
    "  n=C.shape[0]\n",
    "  C2=np.zeros([n,n])\n",
    "  for i in range(0,it):\n",
    "    C2=paso(C[:][i*n:(i+1)*n])\n",
    "    C=np.append(C,C2,0)\n",
    "  return C"
   ]
  },
  {
   "cell_type": "code",
   "execution_count": 10,
   "metadata": {},
   "outputs": [
    {
     "data": {
      "image/png": "[encoded data removed]",
      "text/plain": [
       "<Figure size 504x252 with 1 Axes>"
      ]
     },
     "metadata": {
      "needs_background": "light"
     },
     "output_type": "display_data"
    }
   ],
   "source": [
    "from matplotlib import animation, rc\n",
    "rc('animation', html='html5')\n",
    "\n",
    "C=mundo(30)\n",
    "D=game(C,50)\n",
    "\n",
    "def func(i):\n",
    "  x=D.shape[1]\n",
    "  ax.clear()\n",
    "  ax.imshow(D[i*x:(i+1)*x][:], cmap=\"gray\",animated=True)\n",
    "  ax.set_axis_off()\n",
    "  return ax\n",
    "\n",
    "s=D.shape[1]\n",
    "#fig = plt.figure(figsize=(s,s))\n",
    "#ax = plt.axes(xlim=(0, s), ylim=(0, s))\n",
    "fig, ax = plt.subplots()\n",
    "anim = animation.FuncAnimation(fig, func, frames=s, interval=2000)\n",
    "plt.show()"
   ]
  },
  {
   "cell_type": "code",
   "execution_count": 9,
   "metadata": {},
   "outputs": [
    {
     "data": {
      "text/plain": [
       "<matplotlib.image.AxesImage at 0x1f1e172ea90>"
      ]
     },
     "execution_count": 9,
     "metadata": {},
     "output_type": "execute_result"
    },
    {
     "data": {
      "image/png": "[encoded data removed]",
      "text/plain": [
       "<Figure size 504x252 with 1 Axes>"
      ]
     },
     "metadata": {
      "needs_background": "light"
     },
     "output_type": "display_data"
    }
   ],
   "source": [
    "plt.imshow(D[0:32][:],'gray')"
   ]
  },
  {
   "cell_type": "code",
   "execution_count": 7,
   "metadata": {},
   "outputs": [
    {
     "data": {
      "image/png": "[encoded data removed]",
      "text/plain": [
       "<Figure size 504x252 with 1 Axes>"
      ]
     },
     "metadata": {
      "needs_background": "light"
     },
     "output_type": "display_data"
    }
   ],
   "source": [
    "plt.rcParams[\"figure.figsize\"] = [7.00, 3.50]\n",
    "plt.rcParams[\"figure.autolayout\"] = True\n",
    "fig, ax = plt.subplots()\n",
    "def update(i):\n",
    "  im_normed = np.random.rand(6, 6)\n",
    "  ax.imshow(im_normed,animated=True)\n",
    "  ax.set_axis_off()\n",
    "\n",
    "anim2 = animation.FuncAnimation(fig, update, frames=20, interval=500)\n",
    "\n",
    "\n",
    "plt.show() "
   ]
  },
  {
   "cell_type": "code",
   "execution_count": null,
   "metadata": {},
   "outputs": [],
   "source": []
  }
 ],
 "metadata": {
  "kernelspec": {
   "display_name": "Python 3",
   "language": "python",
   "name": "python3"
  },
  "language_info": {
   "codemirror_mode": {
    "name": "ipython",
    "version": 3
   },
   "file_extension": ".py",
   "mimetype": "text/x-python",
   "name": "python",
   "nbconvert_exporter": "python",
   "pygments_lexer": "ipython3",
   "version": "3.8.5"
  }
 },
 "nbformat": 4,
 "nbformat_minor": 4
}
